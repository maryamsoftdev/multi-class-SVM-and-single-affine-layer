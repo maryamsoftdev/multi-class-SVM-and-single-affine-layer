{
  "nbformat": 4,
  "nbformat_minor": 0,
  "metadata": {
    "colab": {
      "provenance": []
    },
    "kernelspec": {
      "name": "python3",
      "display_name": "Python 3"
    },
    "language_info": {
      "name": "python"
    }
  },
  "cells": [
    {
      "cell_type": "code",
      "source": [
        "import numpy as np\n",
        "from sklearn.datasets import load_iris\n",
        "from sklearn.model_selection import train_test_split\n",
        "from sklearn.preprocessing import StandardScaler\n",
        "from sklearn.metrics import accuracy_score\n",
        "\n",
        "class SingleLayerNeuralNetwork:\n",
        "    def __init__(self, input_size, output_size):\n",
        "        self.weights = np.random.randn(input_size, output_size)\n",
        "        self.bias = np.zeros(output_size)\n",
        "\n",
        "    def train(self, X_train, y_train, learning_rate=0.01, reg_strength=0.01, epochs=1000):\n",
        "        num_samples = X_train.shape[0]\n",
        "\n",
        "        for epoch in range(epochs):\n",
        "            # Forward pass\n",
        "            scores = np.dot(X_train, self.weights) + self.bias\n",
        "\n",
        "            # Compute SVM loss\n",
        "            correct_scores = scores[np.arange(num_samples), y_train]\n",
        "            margins = np.maximum(0, scores - correct_scores[:, np.newaxis] + 1)\n",
        "            margins[np.arange(num_samples), y_train] = 0\n",
        "            loss = np.mean(np.sum(margins, axis=1)) / num_samples\n",
        "\n",
        "            # Add regularization to the loss\n",
        "            loss += 0.5 * reg_strength * np.sum(self.weights * self.weights)\n",
        "\n",
        "            # Backpropagation\n",
        "            margins[margins > 0] = 1\n",
        "            row_sum = np.sum(margins, axis=1)\n",
        "            margins[np.arange(num_samples), y_train] = -row_sum\n",
        "            dW = np.dot(X_train.T, margins)\n",
        "            db = np.sum(margins, axis=0)\n",
        "\n",
        "            # Gradient descent update\n",
        "            self.weights -= learning_rate * (dW / num_samples + reg_strength * self.weights)\n",
        "            self.bias -= learning_rate * db / num_samples\n",
        "\n",
        "            if epoch % 100 == 0:\n",
        "                train_loss = loss\n",
        "                train_accuracy = accuracy_score(y_train, np.argmax(scores, axis=1))\n",
        "                print(f\"Epoch {epoch}: Train Loss = {train_loss:.4f}, Train Accuracy = {train_accuracy:.4f}\")\n",
        "\n",
        "    def predict(self, X):\n",
        "        scores = np.dot(X, self.weights) + self.bias\n",
        "        return np.argmax(scores, axis=1)\n",
        "\n",
        "def main():\n",
        "    # Load Iris dataset\n",
        "    iris = load_iris()\n",
        "    X, y = iris.data, iris.target\n",
        "\n",
        "    # Split the dataset into training and testing sets\n",
        "    X_train, X_test, y_train, y_test = train_test_split(X, y, test_size=0.2, random_state=42)\n",
        "\n",
        "    # Standardize features\n",
        "    scaler = StandardScaler()\n",
        "    X_train = scaler.fit_transform(X_train)\n",
        "    X_test = scaler.transform(X_test)\n",
        "\n",
        "    # Define and train the single layer neural network\n",
        "    num_features = X_train.shape[1]\n",
        "    num_classes = len(np.unique(y))\n",
        "    neural_network = SingleLayerNeuralNetwork(num_features, num_classes)\n",
        "    neural_network.train(X_train, y_train)\n",
        "\n",
        "    # Make predictions on the test set\n",
        "    y_pred = neural_network.predict(X_test)\n",
        "\n",
        "    # Calculate accuracy\n",
        "    accuracy = accuracy_score(y_test, y_pred)\n",
        "    print(\"Test Accuracy:\", accuracy)\n",
        "\n",
        "if __name__ == \"__main__\":\n",
        "    main()\n"
      ],
      "metadata": {
        "colab": {
          "base_uri": "https://localhost:8080/"
        },
        "id": "35SluOU7VFqS",
        "outputId": "3c24825f-c72f-4b2f-b041-079253e80a43"
      },
      "execution_count": 3,
      "outputs": [
        {
          "output_type": "stream",
          "name": "stdout",
          "text": [
            "Epoch 0: Train Loss = 0.0901, Train Accuracy = 0.2417\n",
            "Epoch 100: Train Loss = 0.0461, Train Accuracy = 0.7333\n",
            "Epoch 200: Train Loss = 0.0432, Train Accuracy = 0.8000\n",
            "Epoch 300: Train Loss = 0.0419, Train Accuracy = 0.8583\n",
            "Epoch 400: Train Loss = 0.0410, Train Accuracy = 0.8667\n",
            "Epoch 500: Train Loss = 0.0403, Train Accuracy = 0.8667\n",
            "Epoch 600: Train Loss = 0.0398, Train Accuracy = 0.8667\n",
            "Epoch 700: Train Loss = 0.0394, Train Accuracy = 0.8667\n",
            "Epoch 800: Train Loss = 0.0392, Train Accuracy = 0.8667\n",
            "Epoch 900: Train Loss = 0.0390, Train Accuracy = 0.8833\n",
            "Test Accuracy: 0.9666666666666667\n"
          ]
        }
      ]
    }
  ]
}